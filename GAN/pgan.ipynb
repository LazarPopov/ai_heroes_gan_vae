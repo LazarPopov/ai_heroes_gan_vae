{
 "cells": [
  {
   "cell_type": "code",
   "execution_count": 1,
   "id": "9b5fcb7a",
   "metadata": {},
   "outputs": [],
   "source": [
    "!pip install -q gradio"
   ]
  },
  {
   "cell_type": "code",
   "execution_count": 2,
   "id": "3356d01f",
   "metadata": {},
   "outputs": [
    {
     "name": "stderr",
     "output_type": "stream",
     "text": [
      "C:\\Users\\lazar\\anaconda3\\lib\\site-packages\\torchvision\\io\\image.py:11: UserWarning: Failed to load image Python extension: Could not find module 'C:\\Users\\lazar\\anaconda3\\Lib\\site-packages\\torchvision\\image.pyd' (or one of its dependencies). Try using the full path with constructor syntax.\n",
      "  warn(f\"Failed to load image Python extension: {e}\")\n"
     ]
    },
    {
     "data": {
      "text/plain": [
       "<module 'torchvision' from 'C:\\\\Users\\\\lazar\\\\anaconda3\\\\lib\\\\site-packages\\\\torchvision\\\\__init__.py'>"
      ]
     },
     "execution_count": 2,
     "metadata": {},
     "output_type": "execute_result"
    }
   ],
   "source": [
    "import torch\n",
    "import matplotlib.pyplot as plt\n",
    "import torchvision\n",
    "import gradio as gr\n",
    "from PIL import Image\n",
    "torchvision\n",
    "# torchvision.__version__"
   ]
  },
  {
   "cell_type": "code",
   "execution_count": null,
   "id": "6b04efc8",
   "metadata": {},
   "outputs": [
    {
     "name": "stderr",
     "output_type": "stream",
     "text": [
      "Using cache found in C:\\Users\\lazar/.cache\\torch\\hub\\facebookresearch_pytorch_GAN_zoo_hub\n"
     ]
    },
    {
     "name": "stdout",
     "output_type": "stream",
     "text": [
      "Average network found !\n",
      "Number(label=\"number of images\")\n",
      "Running on local URL:  http://127.0.0.1:7860/\n",
      "\n",
      "To create a public link, set `share=True` in `launch()`.\n"
     ]
    },
    {
     "data": {
      "text/html": [
       "\n",
       "        <iframe\n",
       "            width=\"900\"\n",
       "            height=\"500\"\n",
       "            src=\"http://127.0.0.1:7860/\"\n",
       "            frameborder=\"0\"\n",
       "            allowfullscreen\n",
       "            \n",
       "        ></iframe>\n",
       "        "
      ],
      "text/plain": [
       "<IPython.lib.display.IFrame at 0x246eb403610>"
      ]
     },
     "metadata": {},
     "output_type": "display_data"
    }
   ],
   "source": [
    "\n",
    "\n",
    "use_gpu = True if torch.cuda.is_available() else False\n",
    "\n",
    "model = torch.hub.load('facebookresearch/pytorch_GAN_zoo:hub',\n",
    "                       'PGAN', model_name='celebAHQ-512',\n",
    "                       pretrained=True, useGPU=use_gpu)\n",
    "\n",
    "def pggan(num_images):\n",
    "    \n",
    "    for i in range(int(num_images)):\n",
    "        noise, _ = model.buildNoiseData(int(1))\n",
    "\n",
    "        with torch.no_grad():\n",
    "            generated_images = model.test(noise)\n",
    "\n",
    "        grid = torchvision.utils.make_grid(generated_images.clamp(min=-1, max=1), scale_each=True, normalize=True)\n",
    "        plt.axis(\"off\")\n",
    "        plt.imshow(grid.permute(1, 2, 0).cpu().numpy())\n",
    "        plt.savefig('pgan_face_'+str(i+1)+'.png')\n",
    "    \n",
    "    return plt\n",
    "\n",
    "\n",
    "inputs = gr.inputs.Number(label=\"number of images\")\n",
    "print(inputs)\n",
    "outputs = gr.outputs.Image(label=\"Last saved image\")\n",
    "\n",
    "\n",
    "\n",
    "title = \"Progressive Growing of GANs\"\n",
    "description = \"Gradio demo for Progressive Growing of GANs (PGAN).The last image saved will be displayed while the others will be saved in the execution folder\"\n",
    "article = \"<p style='text-align: center'><a href='https://arxiv.org/abs/1710.10196'>Progressive Growing of GANs for Improved Quality, Stability, and Variation</a> | <a href='https://github.com/facebookresearch/pytorch_GAN_zoo/blob/master/models/progressive_gan.py'>Github Repo</a></p>\"\n",
    "\n",
    "\n",
    "gr.Interface(pggan, inputs, outputs, title=title, description=description, article=article, analytics_enabled=True).launch(debug=True)"
   ]
  },
  {
   "cell_type": "code",
   "execution_count": null,
   "id": "be236319",
   "metadata": {},
   "outputs": [],
   "source": []
  },
  {
   "cell_type": "code",
   "execution_count": null,
   "id": "a5bf40c6",
   "metadata": {},
   "outputs": [],
   "source": []
  }
 ],
 "metadata": {
  "kernelspec": {
   "display_name": "Python 3 (ipykernel)",
   "language": "python",
   "name": "python3"
  },
  "language_info": {
   "codemirror_mode": {
    "name": "ipython",
    "version": 3
   },
   "file_extension": ".py",
   "mimetype": "text/x-python",
   "name": "python",
   "nbconvert_exporter": "python",
   "pygments_lexer": "ipython3",
   "version": "3.9.7"
  }
 },
 "nbformat": 4,
 "nbformat_minor": 5
}
